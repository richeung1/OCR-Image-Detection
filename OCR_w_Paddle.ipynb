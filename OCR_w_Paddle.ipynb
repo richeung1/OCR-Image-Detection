{
  "nbformat": 4,
  "nbformat_minor": 0,
  "metadata": {
    "colab": {
      "provenance": [],
      "collapsed_sections": []
    },
    "kernelspec": {
      "name": "python3",
      "display_name": "Python 3"
    },
    "language_info": {
      "name": "python"
    },
    "accelerator": "GPU",
    "gpuClass": "standard"
  },
  "cells": [
    {
      "cell_type": "code",
      "source": [
        "# Installing packages/libraries\n",
        "\n",
        "# paddlepaddle and paddleocr for OCR\n",
        "!pip install paddlepaddle -i https://mirror.baidu.com/pypi/simple\n",
        "!pip install \"paddleocr>=2.0.1\""
      ],
      "metadata": {
        "id": "NJpquuvh3x-n",
        "outputId": "ee7dc0e6-4ba2-4533-c700-e9ecd448cb91",
        "colab": {
          "base_uri": "https://localhost:8080/"
        }
      },
      "execution_count": 1,
      "outputs": [
        {
          "output_type": "stream",
          "name": "stdout",
          "text": [
            "Looking in indexes: https://mirror.baidu.com/pypi/simple, https://us-python.pkg.dev/colab-wheels/public/simple/\n",
            "Collecting paddlepaddle\n",
            "  Downloading https://mirror.baidu.com/pypi/packages/35/ae/bb0e011f11c026856c643ac3fe023346cc42b702fa201b2044eb8f906dfa/paddlepaddle-2.3.2-cp37-cp37m-manylinux1_x86_64.whl (112.5 MB)\n",
            "\u001b[K     |████████████████████████████████| 112.5 MB 52 kB/s \n",
            "\u001b[?25hRequirement already satisfied: six in /usr/local/lib/python3.7/dist-packages (from paddlepaddle) (1.15.0)\n",
            "Requirement already satisfied: numpy>=1.13 in /usr/local/lib/python3.7/dist-packages (from paddlepaddle) (1.21.6)\n",
            "Requirement already satisfied: opt-einsum==3.3.0 in /usr/local/lib/python3.7/dist-packages (from paddlepaddle) (3.3.0)\n",
            "Requirement already satisfied: Pillow in /usr/local/lib/python3.7/dist-packages (from paddlepaddle) (7.1.2)\n",
            "Requirement already satisfied: requests>=2.20.0 in /usr/local/lib/python3.7/dist-packages (from paddlepaddle) (2.23.0)\n",
            "Requirement already satisfied: decorator in /usr/local/lib/python3.7/dist-packages (from paddlepaddle) (4.4.2)\n",
            "Collecting paddle-bfloat==0.1.7\n",
            "  Downloading https://mirror.baidu.com/pypi/packages/82/61/dc218060cf0b2c6e6206c0b3961dc1b045e1761ac2af62f86669e8e19eda/paddle_bfloat-0.1.7-cp37-cp37m-manylinux_2_17_x86_64.manylinux2014_x86_64.whl (394 kB)\n",
            "\u001b[K     |████████████████████████████████| 394 kB 28.9 MB/s \n",
            "\u001b[?25hRequirement already satisfied: protobuf<=3.20.0,>=3.1.0 in /usr/local/lib/python3.7/dist-packages (from paddlepaddle) (3.17.3)\n",
            "Requirement already satisfied: astor in /usr/local/lib/python3.7/dist-packages (from paddlepaddle) (0.8.1)\n",
            "Requirement already satisfied: chardet<4,>=3.0.2 in /usr/local/lib/python3.7/dist-packages (from requests>=2.20.0->paddlepaddle) (3.0.4)\n",
            "Requirement already satisfied: idna<3,>=2.5 in /usr/local/lib/python3.7/dist-packages (from requests>=2.20.0->paddlepaddle) (2.10)\n",
            "Requirement already satisfied: urllib3!=1.25.0,!=1.25.1,<1.26,>=1.21.1 in /usr/local/lib/python3.7/dist-packages (from requests>=2.20.0->paddlepaddle) (1.24.3)\n",
            "Requirement already satisfied: certifi>=2017.4.17 in /usr/local/lib/python3.7/dist-packages (from requests>=2.20.0->paddlepaddle) (2022.6.15)\n",
            "Installing collected packages: paddle-bfloat, paddlepaddle\n",
            "Successfully installed paddle-bfloat-0.1.7 paddlepaddle-2.3.2\n",
            "Looking in indexes: https://pypi.org/simple, https://us-python.pkg.dev/colab-wheels/public/simple/\n",
            "Collecting paddleocr>=2.0.1\n",
            "  Downloading paddleocr-2.6.0.1-py3-none-any.whl (389 kB)\n",
            "\u001b[K     |████████████████████████████████| 389 kB 5.0 MB/s \n",
            "\u001b[?25hRequirement already satisfied: openpyxl in /usr/local/lib/python3.7/dist-packages (from paddleocr>=2.0.1) (3.0.10)\n",
            "Requirement already satisfied: numpy in /usr/local/lib/python3.7/dist-packages (from paddleocr>=2.0.1) (1.21.6)\n",
            "Requirement already satisfied: lmdb in /usr/local/lib/python3.7/dist-packages (from paddleocr>=2.0.1) (0.99)\n",
            "Requirement already satisfied: cython in /usr/local/lib/python3.7/dist-packages (from paddleocr>=2.0.1) (0.29.32)\n",
            "Collecting attrdict\n",
            "  Downloading attrdict-2.0.1-py2.py3-none-any.whl (9.9 kB)\n",
            "Requirement already satisfied: lxml in /usr/local/lib/python3.7/dist-packages (from paddleocr>=2.0.1) (4.9.1)\n",
            "Collecting rapidfuzz\n",
            "  Downloading rapidfuzz-2.6.1-cp37-cp37m-manylinux_2_17_x86_64.manylinux2014_x86_64.whl (2.3 MB)\n",
            "\u001b[K     |████████████████████████████████| 2.3 MB 51.3 MB/s \n",
            "\u001b[?25hRequirement already satisfied: opencv-contrib-python in /usr/local/lib/python3.7/dist-packages (from paddleocr>=2.0.1) (4.6.0.66)\n",
            "Requirement already satisfied: imgaug in /usr/local/lib/python3.7/dist-packages (from paddleocr>=2.0.1) (0.4.0)\n",
            "Requirement already satisfied: tqdm in /usr/local/lib/python3.7/dist-packages (from paddleocr>=2.0.1) (4.64.0)\n",
            "Collecting visualdl\n",
            "  Downloading visualdl-2.4.0-py3-none-any.whl (4.9 MB)\n",
            "\u001b[K     |████████████████████████████████| 4.9 MB 51.6 MB/s \n",
            "\u001b[?25hRequirement already satisfied: scikit-image in /usr/local/lib/python3.7/dist-packages (from paddleocr>=2.0.1) (0.18.3)\n",
            "Requirement already satisfied: opencv-python in /usr/local/lib/python3.7/dist-packages (from paddleocr>=2.0.1) (4.6.0.66)\n",
            "Collecting premailer\n",
            "  Downloading premailer-3.10.0-py2.py3-none-any.whl (19 kB)\n",
            "Requirement already satisfied: shapely in /usr/local/lib/python3.7/dist-packages (from paddleocr>=2.0.1) (1.8.4)\n",
            "Collecting pyclipper\n",
            "  Downloading pyclipper-1.3.0.post3-cp37-cp37m-manylinux_2_5_x86_64.manylinux1_x86_64.whl (604 kB)\n",
            "\u001b[K     |████████████████████████████████| 604 kB 72.3 MB/s \n",
            "\u001b[?25hRequirement already satisfied: six in /usr/local/lib/python3.7/dist-packages (from attrdict->paddleocr>=2.0.1) (1.15.0)\n",
            "Requirement already satisfied: matplotlib in /usr/local/lib/python3.7/dist-packages (from imgaug->paddleocr>=2.0.1) (3.2.2)\n",
            "Requirement already satisfied: imageio in /usr/local/lib/python3.7/dist-packages (from imgaug->paddleocr>=2.0.1) (2.9.0)\n",
            "Requirement already satisfied: Pillow in /usr/local/lib/python3.7/dist-packages (from imgaug->paddleocr>=2.0.1) (7.1.2)\n",
            "Requirement already satisfied: scipy in /usr/local/lib/python3.7/dist-packages (from imgaug->paddleocr>=2.0.1) (1.7.3)\n",
            "Requirement already satisfied: tifffile>=2019.7.26 in /usr/local/lib/python3.7/dist-packages (from scikit-image->paddleocr>=2.0.1) (2021.11.2)\n",
            "Requirement already satisfied: PyWavelets>=1.1.1 in /usr/local/lib/python3.7/dist-packages (from scikit-image->paddleocr>=2.0.1) (1.3.0)\n",
            "Requirement already satisfied: networkx>=2.0 in /usr/local/lib/python3.7/dist-packages (from scikit-image->paddleocr>=2.0.1) (2.6.3)\n",
            "Requirement already satisfied: cycler>=0.10 in /usr/local/lib/python3.7/dist-packages (from matplotlib->imgaug->paddleocr>=2.0.1) (0.11.0)\n",
            "Requirement already satisfied: python-dateutil>=2.1 in /usr/local/lib/python3.7/dist-packages (from matplotlib->imgaug->paddleocr>=2.0.1) (2.8.2)\n",
            "Requirement already satisfied: kiwisolver>=1.0.1 in /usr/local/lib/python3.7/dist-packages (from matplotlib->imgaug->paddleocr>=2.0.1) (1.4.4)\n",
            "Requirement already satisfied: pyparsing!=2.0.4,!=2.1.2,!=2.1.6,>=2.0.1 in /usr/local/lib/python3.7/dist-packages (from matplotlib->imgaug->paddleocr>=2.0.1) (3.0.9)\n",
            "Requirement already satisfied: typing-extensions in /usr/local/lib/python3.7/dist-packages (from kiwisolver>=1.0.1->matplotlib->imgaug->paddleocr>=2.0.1) (4.1.1)\n",
            "Requirement already satisfied: et-xmlfile in /usr/local/lib/python3.7/dist-packages (from openpyxl->paddleocr>=2.0.1) (1.1.0)\n",
            "Collecting cssutils\n",
            "  Downloading cssutils-2.6.0-py3-none-any.whl (399 kB)\n",
            "\u001b[K     |████████████████████████████████| 399 kB 75.8 MB/s \n",
            "\u001b[?25hRequirement already satisfied: cachetools in /usr/local/lib/python3.7/dist-packages (from premailer->paddleocr>=2.0.1) (4.2.4)\n",
            "Collecting cssselect\n",
            "  Downloading cssselect-1.1.0-py2.py3-none-any.whl (16 kB)\n",
            "Requirement already satisfied: requests in /usr/local/lib/python3.7/dist-packages (from premailer->paddleocr>=2.0.1) (2.23.0)\n",
            "Requirement already satisfied: importlib-metadata in /usr/local/lib/python3.7/dist-packages (from cssutils->premailer->paddleocr>=2.0.1) (4.12.0)\n",
            "Requirement already satisfied: zipp>=0.5 in /usr/local/lib/python3.7/dist-packages (from importlib-metadata->cssutils->premailer->paddleocr>=2.0.1) (3.8.1)\n",
            "Collecting jarowinkler<2.0.0,>=1.2.0\n",
            "  Downloading jarowinkler-1.2.1-cp37-cp37m-manylinux_2_17_x86_64.manylinux2014_x86_64.whl (104 kB)\n",
            "\u001b[K     |████████████████████████████████| 104 kB 56.0 MB/s \n",
            "\u001b[?25hRequirement already satisfied: certifi>=2017.4.17 in /usr/local/lib/python3.7/dist-packages (from requests->premailer->paddleocr>=2.0.1) (2022.6.15)\n",
            "Requirement already satisfied: chardet<4,>=3.0.2 in /usr/local/lib/python3.7/dist-packages (from requests->premailer->paddleocr>=2.0.1) (3.0.4)\n",
            "Requirement already satisfied: idna<3,>=2.5 in /usr/local/lib/python3.7/dist-packages (from requests->premailer->paddleocr>=2.0.1) (2.10)\n",
            "Requirement already satisfied: urllib3!=1.25.0,!=1.25.1,<1.26,>=1.21.1 in /usr/local/lib/python3.7/dist-packages (from requests->premailer->paddleocr>=2.0.1) (1.24.3)\n",
            "Requirement already satisfied: protobuf>=3.11.0 in /usr/local/lib/python3.7/dist-packages (from visualdl->paddleocr>=2.0.1) (3.17.3)\n",
            "Collecting bce-python-sdk\n",
            "  Downloading bce_python_sdk-0.8.74-py3-none-any.whl (204 kB)\n",
            "\u001b[K     |████████████████████████████████| 204 kB 73.8 MB/s \n",
            "\u001b[?25hRequirement already satisfied: flask>=1.1.1 in /usr/local/lib/python3.7/dist-packages (from visualdl->paddleocr>=2.0.1) (1.1.4)\n",
            "Collecting Flask-Babel>=1.0.0\n",
            "  Downloading Flask_Babel-2.0.0-py3-none-any.whl (9.3 kB)\n",
            "Requirement already satisfied: pandas in /usr/local/lib/python3.7/dist-packages (from visualdl->paddleocr>=2.0.1) (1.3.5)\n",
            "Requirement already satisfied: Jinja2<3.0,>=2.10.1 in /usr/local/lib/python3.7/dist-packages (from flask>=1.1.1->visualdl->paddleocr>=2.0.1) (2.11.3)\n",
            "Requirement already satisfied: itsdangerous<2.0,>=0.24 in /usr/local/lib/python3.7/dist-packages (from flask>=1.1.1->visualdl->paddleocr>=2.0.1) (1.1.0)\n",
            "Requirement already satisfied: Werkzeug<2.0,>=0.15 in /usr/local/lib/python3.7/dist-packages (from flask>=1.1.1->visualdl->paddleocr>=2.0.1) (1.0.1)\n",
            "Requirement already satisfied: click<8.0,>=5.1 in /usr/local/lib/python3.7/dist-packages (from flask>=1.1.1->visualdl->paddleocr>=2.0.1) (7.1.2)\n",
            "Requirement already satisfied: pytz in /usr/local/lib/python3.7/dist-packages (from Flask-Babel>=1.0.0->visualdl->paddleocr>=2.0.1) (2022.2.1)\n",
            "Requirement already satisfied: Babel>=2.3 in /usr/local/lib/python3.7/dist-packages (from Flask-Babel>=1.0.0->visualdl->paddleocr>=2.0.1) (2.10.3)\n",
            "Requirement already satisfied: MarkupSafe>=0.23 in /usr/local/lib/python3.7/dist-packages (from Jinja2<3.0,>=2.10.1->flask>=1.1.1->visualdl->paddleocr>=2.0.1) (2.0.1)\n",
            "Requirement already satisfied: future>=0.6.0 in /usr/local/lib/python3.7/dist-packages (from bce-python-sdk->visualdl->paddleocr>=2.0.1) (0.16.0)\n",
            "Collecting pycryptodome>=3.8.0\n",
            "  Downloading pycryptodome-3.15.0-cp35-abi3-manylinux2010_x86_64.whl (2.3 MB)\n",
            "\u001b[K     |████████████████████████████████| 2.3 MB 49.3 MB/s \n",
            "\u001b[?25hInstalling collected packages: pycryptodome, jarowinkler, Flask-Babel, cssutils, cssselect, bce-python-sdk, visualdl, rapidfuzz, pyclipper, premailer, attrdict, paddleocr\n",
            "Successfully installed Flask-Babel-2.0.0 attrdict-2.0.1 bce-python-sdk-0.8.74 cssselect-1.1.0 cssutils-2.6.0 jarowinkler-1.2.1 paddleocr-2.6.0.1 premailer-3.10.0 pyclipper-1.3.0.post3 pycryptodome-3.15.0 rapidfuzz-2.6.1 visualdl-2.4.0\n"
          ]
        }
      ]
    },
    {
      "cell_type": "code",
      "source": [
        "from paddleocr import PaddleOCR, draw_ocr\n",
        "from PIL import Image, ImageFont, ImageDraw\n",
        "\n",
        "# pandas for saving results to csv and data manipulation\n",
        "import pandas as pd"
      ],
      "metadata": {
        "id": "fXjvNzno5KEs"
      },
      "execution_count": 2,
      "outputs": []
    },
    {
      "cell_type": "code",
      "source": [
        "# Calling PaddleOCR for English\n",
        "ocr = PaddleOCR(use_angle_cls=True, lang='en')"
      ],
      "metadata": {
        "colab": {
          "base_uri": "https://localhost:8080/"
        },
        "id": "pEV7eV6S9_21",
        "outputId": "6e0adb82-b2e5-4241-ba50-3cc3ff371186"
      },
      "execution_count": 3,
      "outputs": [
        {
          "output_type": "stream",
          "name": "stdout",
          "text": [
            "download https://paddleocr.bj.bcebos.com/PP-OCRv3/english/en_PP-OCRv3_det_infer.tar to /root/.paddleocr/whl/det/en/en_PP-OCRv3_det_infer/en_PP-OCRv3_det_infer.tar\n"
          ]
        },
        {
          "output_type": "stream",
          "name": "stderr",
          "text": [
            "100%|██████████| 3.86M/3.86M [00:13<00:00, 294kiB/s]\n"
          ]
        },
        {
          "output_type": "stream",
          "name": "stdout",
          "text": [
            "download https://paddleocr.bj.bcebos.com/PP-OCRv3/english/en_PP-OCRv3_rec_infer.tar to /root/.paddleocr/whl/rec/en/en_PP-OCRv3_rec_infer/en_PP-OCRv3_rec_infer.tar\n"
          ]
        },
        {
          "output_type": "stream",
          "name": "stderr",
          "text": [
            "100%|██████████| 9.96M/9.96M [00:08<00:00, 1.14MiB/s]\n"
          ]
        },
        {
          "output_type": "stream",
          "name": "stdout",
          "text": [
            "download https://paddleocr.bj.bcebos.com/dygraph_v2.0/ch/ch_ppocr_mobile_v2.0_cls_infer.tar to /root/.paddleocr/whl/cls/ch_ppocr_mobile_v2.0_cls_infer/ch_ppocr_mobile_v2.0_cls_infer.tar\n"
          ]
        },
        {
          "output_type": "stream",
          "name": "stderr",
          "text": [
            "100%|██████████| 2.19M/2.19M [00:03<00:00, 704kiB/s]"
          ]
        },
        {
          "output_type": "stream",
          "name": "stdout",
          "text": [
            "[2022/09/09 12:05:49] ppocr DEBUG: Namespace(alpha=1.0, benchmark=False, beta=1.0, cls_batch_num=6, cls_image_shape='3, 48, 192', cls_model_dir='/root/.paddleocr/whl/cls/ch_ppocr_mobile_v2.0_cls_infer', cls_thresh=0.9, cpu_threads=10, crop_res_save_dir='./output', det=True, det_algorithm='DB', det_db_box_thresh=0.6, det_db_score_mode='fast', det_db_thresh=0.3, det_db_unclip_ratio=1.5, det_east_cover_thresh=0.1, det_east_nms_thresh=0.2, det_east_score_thresh=0.8, det_fce_box_type='poly', det_limit_side_len=960, det_limit_type='max', det_model_dir='/root/.paddleocr/whl/det/en/en_PP-OCRv3_det_infer', det_pse_box_thresh=0.85, det_pse_box_type='quad', det_pse_min_area=16, det_pse_scale=1, det_pse_thresh=0, det_sast_nms_thresh=0.2, det_sast_polygon=False, det_sast_score_thresh=0.5, draw_img_save_dir='./inference_results', drop_score=0.5, e2e_algorithm='PGNet', e2e_char_dict_path='./ppocr/utils/ic15_dict.txt', e2e_limit_side_len=768, e2e_limit_type='max', e2e_model_dir=None, e2e_pgnet_mode='fast', e2e_pgnet_score_thresh=0.5, e2e_pgnet_valid_set='totaltext', enable_mkldnn=False, fourier_degree=5, gpu_mem=500, help='==SUPPRESS==', image_dir=None, image_orientation=False, ir_optim=True, kie_algorithm='LayoutXLM', label_list=['0', '180'], lang='en', layout=True, layout_dict_path=None, layout_model_dir=None, layout_nms_threshold=0.5, layout_score_threshold=0.5, max_batch_size=10, max_text_length=25, merge_no_span_structure=True, min_subgraph_size=15, mode='structure', ocr=True, ocr_order_method=None, ocr_version='PP-OCRv3', output='./output', precision='fp32', process_id=0, rec=True, rec_algorithm='SVTR_LCNet', rec_batch_num=6, rec_char_dict_path='/usr/local/lib/python3.7/dist-packages/paddleocr/ppocr/utils/en_dict.txt', rec_image_shape='3, 48, 320', rec_model_dir='/root/.paddleocr/whl/rec/en/en_PP-OCRv3_rec_infer', recovery=False, save_crop_res=False, save_log_path='./log_output/', save_pdf=False, scales=[8, 16, 32], ser_dict_path='../train_data/XFUND/class_list_xfun.txt', ser_model_dir=None, shape_info_filename=None, show_log=True, sr_batch_num=1, sr_image_shape='3, 32, 128', sr_model_dir=None, structure_version='PP-Structurev2', table=True, table_algorithm='TableAttn', table_char_dict_path=None, table_max_len=488, table_model_dir=None, total_process_num=1, type='ocr', use_angle_cls=True, use_dilation=False, use_gpu=False, use_mp=False, use_onnx=False, use_pdserving=False, use_space_char=True, use_tensorrt=False, use_xpu=False, vis_font_path='./doc/fonts/simfang.ttf', warmup=False)\n"
          ]
        },
        {
          "output_type": "stream",
          "name": "stderr",
          "text": [
            "\n"
          ]
        }
      ]
    },
    {
      "cell_type": "code",
      "source": [
        "# Choosing Image from my Google Drive\n",
        "img_path = '/content/drive/MyDrive/Machine Learning Colab Notebooks/OCR/Images/pho_recepit.jpg'"
      ],
      "metadata": {
        "id": "kHiFy7sQ_XMG"
      },
      "execution_count": 4,
      "outputs": []
    },
    {
      "cell_type": "code",
      "source": [
        "# Results and saving to csv\n",
        "result = ocr.ocr(img_path, cls=True)\n",
        "csv = []\n",
        "for line in result:\n",
        "    csv.append(line)\n",
        "    print(line)\n",
        "\n",
        "df = pd.DataFrame(csv)\n",
        "\n",
        "df.to_csv('/content/drive/MyDrive/Machine Learning Colab Notebooks/OCR/Results/pho_receipt.csv')"
      ],
      "metadata": {
        "colab": {
          "base_uri": "https://localhost:8080/"
        },
        "id": "Vm3GbI3i_Z4B",
        "outputId": "5d372e67-d9f0-4ea2-9b29-4d34461e7511"
      },
      "execution_count": 5,
      "outputs": [
        {
          "output_type": "stream",
          "name": "stdout",
          "text": [
            "[2022/09/09 12:05:55] ppocr DEBUG: dt_boxes num : 28, elapse : 0.5815136432647705\n",
            "[2022/09/09 12:05:55] ppocr DEBUG: cls num  : 28, elapse : 0.17490506172180176\n",
            "[2022/09/09 12:05:57] ppocr DEBUG: rec_res num  : 28, elapse : 1.9919304847717285\n",
            "[[[67.0, 51.0], [327.0, 46.0], [327.0, 74.0], [68.0, 80.0]], ('PHOCAPITAL', 0.9944714307785034)]\n",
            "[[[72.0, 92.0], [453.0, 84.0], [454.0, 114.0], [73.0, 122.0]], ('107 State Street', 0.9744492173194885)]\n",
            "[[[69.0, 135.0], [501.0, 125.0], [501.0, 156.0], [70.0, 165.0]], ('Montpelier Vermont', 0.9357035160064697)]\n",
            "[[[71.0, 176.0], [364.0, 171.0], [364.0, 201.0], [72.0, 206.0]], ('802 225 6183', 0.9168100357055664)]\n",
            "[[[74.0, 302.0], [150.0, 299.0], [151.0, 333.0], [75.0, 336.0]], ('REG', 0.9945926666259766)]\n",
            "[[[198.0, 300.0], [651.0, 285.0], [652.0, 315.0], [199.0, 330.0]], ('07-24-2017 06:59 PM', 0.9437682628631592)]\n",
            "[[[510.0, 331.0], [651.0, 325.0], [653.0, 357.0], [511.0, 362.0]], ('045555', 0.9959450364112854)]\n",
            "[[[537.0, 370.0], [588.0, 370.0], [588.0, 402.0], [537.0, 402.0]], ('CT', 0.9880505800247192)]\n",
            "[[[397.0, 457.0], [442.0, 457.0], [442.0, 491.0], [397.0, 491.0]], ('T1', 0.993397057056427)]\n",
            "[[[539.0, 452.0], [655.0, 447.0], [657.0, 480.0], [540.0, 485.0]], ('$7.95', 0.9911705255508423)]\n",
            "[[[111.0, 470.0], [252.0, 464.0], [253.0, 496.0], [112.0, 502.0]], ('1 F00D', 0.8825616836547852)]\n",
            "[[[399.0, 498.0], [443.0, 498.0], [443.0, 532.0], [399.0, 532.0]], ('T1', 0.9917992353439331)]\n",
            "[[[541.0, 494.0], [656.0, 489.0], [658.0, 521.0], [542.0, 526.0]], ('$3.95', 0.9907434582710266)]\n",
            "[[[111.0, 511.0], [254.0, 505.0], [255.0, 536.0], [112.0, 542.0]], ('1F00D', 0.969538688659668)]\n",
            "[[[399.0, 539.0], [445.0, 539.0], [445.0, 572.0], [399.0, 572.0]], ('T1', 0.9911445379257202)]\n",
            "[[[541.0, 534.0], [658.0, 529.0], [660.0, 562.0], [542.0, 566.0]], ('$9.50', 0.9681171178817749)]\n",
            "[[[115.0, 551.0], [255.0, 546.0], [256.0, 578.0], [116.0, 583.0]], ('1F00D', 0.9725922346115112)]\n",
            "[[[396.0, 577.0], [495.0, 575.0], [496.0, 614.0], [397.0, 617.0]], ('3 No', 0.9465218782424927)]\n",
            "[[[521.0, 616.0], [662.0, 609.0], [664.0, 644.0], [522.0, 651.0]], ('$21.40', 0.9275484085083008)]\n",
            "[[[165.0, 629.0], [235.0, 629.0], [235.0, 664.0], [165.0, 664.0]], ('TA1', 0.9969971776008606)]\n",
            "[[[545.0, 657.0], [664.0, 653.0], [666.0, 688.0], [546.0, 692.0]], ('$1.92', 0.9926120042800903)]\n",
            "[[[165.0, 672.0], [234.0, 669.0], [235.0, 704.0], [166.0, 707.0]], ('TX1', 0.9829854369163513)]\n",
            "[[[167.0, 714.0], [216.0, 714.0], [216.0, 751.0], [167.0, 751.0]], ('TL', 0.9964312314987183)]\n",
            "[[[383.0, 706.0], [660.0, 695.0], [662.0, 730.0], [385.0, 740.0]], ('$23.32', 0.9463891983032227)]\n",
            "[[[527.0, 742.0], [667.0, 737.0], [669.0, 771.0], [528.0, 777.0]], ('$23.32', 0.9761694073677063)]\n",
            "[[[165.0, 757.0], [265.0, 755.0], [266.0, 790.0], [166.0, 793.0]], ('CASH', 0.9979817867279053)]\n",
            "[[[99.0, 848.0], [313.0, 837.0], [315.0, 868.0], [101.0, 879.0]], ('THANK YOU', 0.9712548851966858)]\n",
            "[[[98.0, 889.0], [504.0, 867.0], [506.0, 897.0], [100.0, 919.0]], ('FOR YOUR BUSINESS', 0.9636691808700562)]\n"
          ]
        }
      ]
    },
    {
      "cell_type": "code",
      "source": [
        "# Creating boxes for Image OCR\n",
        "\n",
        "boxes = [line[0] for line in result]\n",
        "txts = [line[1][0] for line in result]\n",
        "scores = [line[1][1] for line in result]\n",
        "\n",
        "# Creating and Saving Image Result\n",
        "image = Image.open(img_path).convert('RGB')\n",
        "im_show = draw_ocr(image, boxes, txts, scores, font_path='LiberationSans-Regular.ttf')\n",
        "im_show = Image.fromarray(im_show)\n",
        "\n",
        "im_show.save('/content/drive/MyDrive/Machine Learning Colab Notebooks/OCR/Results/pho_receipt_results.jpg')"
      ],
      "metadata": {
        "id": "8jHClVrB_vrY"
      },
      "execution_count": 6,
      "outputs": []
    }
  ]
}